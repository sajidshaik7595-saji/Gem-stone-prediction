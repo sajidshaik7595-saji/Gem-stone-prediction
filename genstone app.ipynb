{
 "cells": [
  {
   "cell_type": "code",
   "execution_count": 1,
   "id": "2ad4042b",
   "metadata": {},
   "outputs": [],
   "source": [
    "import xgboost as xgb\n",
    "import streamlit as st\n",
    "import pandas as pd\n",
    "import sklearn"
   ]
  },
  {
   "cell_type": "code",
   "execution_count": 2,
   "id": "d2336183",
   "metadata": {},
   "outputs": [],
   "source": [
    "model = xgb.XGBRegressor()\n",
    "model.load_model('xgb_model.json')"
   ]
  },
  {
   "cell_type": "code",
   "execution_count": 3,
   "id": "2c9433ac",
   "metadata": {},
   "outputs": [],
   "source": [
    "# Define the prediction function\n",
    "def predict(carat, cut, color, clarity, depth, table, x, y, z):\n",
    "    #Predicting the price of the carat\n",
    "    if cut == 'Fair':\n",
    "        cut = 0\n",
    "    elif cut == 'Good':\n",
    "        cut = 1\n",
    "    elif cut == 'Very Good':\n",
    "        cut = 2\n",
    "    elif cut == 'Premium':\n",
    "        cut = 3\n",
    "    elif cut == 'Ideal':\n",
    "        cut = 4\n",
    "\n",
    "    if color == 'J':\n",
    "        color = 0\n",
    "    elif color == 'I':\n",
    "        color = 1\n",
    "    elif color == 'H':\n",
    "        color = 2\n",
    "    elif color == 'G':\n",
    "        color = 3\n",
    "    elif color == 'F':\n",
    "        color = 4\n",
    "    elif color == 'E':\n",
    "        color = 5\n",
    "    elif color == 'D':\n",
    "        color = 6\n",
    "    \n",
    "    if clarity == 'I1':\n",
    "        clarity = 0\n",
    "    elif clarity == 'SI2':\n",
    "        clarity = 1\n",
    "    elif clarity == 'SI1':\n",
    "        clarity = 2\n",
    "    elif clarity == 'VS2':\n",
    "        clarity = 3\n",
    "    elif clarity == 'VS1':\n",
    "        clarity = 4\n",
    "    elif clarity == 'VVS2':\n",
    "        clarity = 5\n",
    "    elif clarity == 'VVS1':\n",
    "        clarity = 6\n",
    "    elif clarity == 'IF':\n",
    "        clarity = 7\n",
    "    \n",
    "\n",
    "    prediction = model.predict(pd.DataFrame([[carat, cut, color, clarity, depth, table, x, y, z]], columns=['carat', 'cut', 'color', 'clarity', 'depth', 'table', 'x', 'y', 'z']))\n",
    "    return prediction"
   ]
  },
  {
   "cell_type": "code",
   "execution_count": 4,
   "id": "4d2718de",
   "metadata": {},
   "outputs": [
    {
     "name": "stderr",
     "output_type": "stream",
     "text": [
      "2023-08-23 13:15:37.098 \n",
      "  \u001b[33m\u001b[1mWarning:\u001b[0m to view this Streamlit app on a browser, run it with the following\n",
      "  command:\n",
      "\n",
      "    streamlit run C:\\Users\\sajid\\.conda\\envs\\myenv\\Lib\\site-packages\\ipykernel_launcher.py [ARGUMENTS]\n"
     ]
    }
   ],
   "source": [
    "st.title('Diamond Price Predictor')\n",
    "st.image(\"\"\"https://www.thestreet.com/.image/ar_4:3%2Cc_fill%2Ccs_srgb%2Cq_auto:good%2Cw_1200/MTY4NjUwNDYyNTYzNDExNTkx/why-dominion-diamonds-second-trip-to-the-block-may-be-different.png\"\"\")\n",
    "st.header('Enter the characteristics of the diamond:')\n",
    "carat = st.number_input('Carat Weight:', min_value=0.1, max_value=10.0, value=1.0)\n",
    "cut = st.selectbox('Cut Rating:', ['Fair', 'Good', 'Very Good', 'Premium', 'Ideal'])\n",
    "color = st.selectbox('Color Rating:', ['J', 'I', 'H', 'G', 'F', 'E', 'D'])\n",
    "clarity = st.selectbox('Clarity Rating:', ['I1', 'SI2', 'SI1', 'VS2', 'VS1', 'VVS2', 'VVS1', 'IF'])\n",
    "depth = st.number_input('Diamond Depth Percentage:', min_value=0.1, max_value=100.0, value=1.0)\n",
    "table = st.number_input('Diamond Table Percentage:', min_value=0.1, max_value=100.0, value=1.0)\n",
    "x = st.number_input('Diamond Length (X) in mm:', min_value=0.1, max_value=100.0, value=1.0)\n",
    "y = st.number_input('Diamond Width (Y) in mm:', min_value=0.1, max_value=100.0, value=1.0)\n",
    "z = st.number_input('Diamond Height (Z) in mm:', min_value=0.1, max_value=100.0, value=1.0)"
   ]
  },
  {
   "cell_type": "code",
   "execution_count": 5,
   "id": "f9f3515f",
   "metadata": {},
   "outputs": [],
   "source": [
    "if st.button('Predict Price'):\n",
    "    price = predict(carat, cut, color, clarity, depth, table, x, y, z)\n",
    "    st.success(f'The predicted price of the diamond is ${price[0]:.2f} USD')"
   ]
  },
  {
   "cell_type": "code",
   "execution_count": null,
   "id": "8c25fdec",
   "metadata": {},
   "outputs": [],
   "source": []
  }
 ],
 "metadata": {
  "kernelspec": {
   "display_name": "Python 3 (ipykernel)",
   "language": "python",
   "name": "python3"
  },
  "language_info": {
   "codemirror_mode": {
    "name": "ipython",
    "version": 3
   },
   "file_extension": ".py",
   "mimetype": "text/x-python",
   "name": "python",
   "nbconvert_exporter": "python",
   "pygments_lexer": "ipython3",
   "version": "3.11.3"
  }
 },
 "nbformat": 4,
 "nbformat_minor": 5
}
